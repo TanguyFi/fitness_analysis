{
 "cells": [
  {
   "cell_type": "code",
   "execution_count": null,
   "metadata": {},
   "outputs": [],
   "source": [
    "import numpy as np\n",
    "import pandas as pd\n",
    "import plotly.graph_objects as go\n",
    "from datetime import date, datetime\n",
    "\n",
    "pd.options.plotting.backend = \"plotly\""
   ]
  },
  {
   "cell_type": "code",
   "execution_count": null,
   "metadata": {},
   "outputs": [],
   "source": [
    "df = pd.read_csv(\"heart_rate.csv\", parse_dates=['timestamp'])\n",
    "df['local_time'] = df['timestamp'].dt.tz_localize('utc').dt.tz_convert('Europe/Paris')\n",
    "df"
   ]
  },
  {
   "cell_type": "code",
   "execution_count": null,
   "metadata": {},
   "outputs": [],
   "source": [
    "df.plot(x='timestamp', y='heart_rate', kind='line', title='Heart rate', width=1000, height=500)"
   ]
  },
  {
   "cell_type": "code",
   "execution_count": null,
   "metadata": {},
   "outputs": [],
   "source": [
    "sleep_end = \"07:30\" #Sleep start time\n",
    "sleep_start = \"23:00\" #Sleep end time\n",
    "\n",
    "\n",
    "#Return the new waking HR list\n",
    "awake_df = df.set_index('local_time').between_time(sleep_end, sleep_start).reset_index()\n",
    "awake_df.plot(x='local_time', y='heart_rate', kind='line', title='Heart rate', width=1000, height=500)"
   ]
  },
  {
   "cell_type": "code",
   "execution_count": null,
   "metadata": {},
   "outputs": [],
   "source": [
    "max_hr = 190 #Max heart rate\n",
    "\n",
    "#Create bins based on max HR\n",
    "rest = max_hr * 0.4\n",
    "stand = max_hr * 0.5\n",
    "z0 = max_hr * 0.6\n",
    "z1 = max_hr * 0.7\n",
    "z2 = max_hr * 0.8\n",
    "z3_4 = max_hr * 0.9\n",
    "z5 = max_hr\n",
    "\n",
    "heart_rate_list = awake_df['heart_rate'].tolist()\n",
    "days = (max(awake_df['local_time']) - min(awake_df['local_time'])).days\n",
    "\n",
    "#Set the distribution bins that I want to look at for zones (yours might be different)\n",
    "hist, bins = np.histogram(heart_rate_list, bins=[0, rest, stand, z0, z1, z2, z3_4, z5])\n",
    "hist = (hist * 2 / 60 / days).tolist()  #2 min samples over days\n",
    "bin_names = ['Sit/Relax: <40% MHR', 'Stand/Move: 40-50% MHR', 'Z0 Exercise: 50-60% MHR', 'Z1 Exercise: 60-70% MHR', 'Z2 Exercise: 70-80% MHR', 'Z3/4 Exercise: 80-90% MHR', 'Z5+: >90% MHR']\n",
    "\n",
    "print(hist)\n",
    "\n",
    "#Build the chart\n",
    "fig = go.Figure()\n",
    "fig.add_trace(go.Bar(x=bin_names, y=hist, marker=dict(color=['red','blue','blue','blue','blue','blue','blue'])))\n",
    "fig.update_layout(title_text=f'Daily Waking Heart Rate Zone Distribution', yaxis_title='Hours')\n",
    "fig.show()"
   ]
  }
 ],
 "metadata": {
  "kernelspec": {
   "display_name": "venv",
   "language": "python",
   "name": "python3"
  },
  "language_info": {
   "codemirror_mode": {
    "name": "ipython",
    "version": 3
   },
   "file_extension": ".py",
   "mimetype": "text/x-python",
   "name": "python",
   "nbconvert_exporter": "python",
   "pygments_lexer": "ipython3",
   "version": "3.8.15"
  }
 },
 "nbformat": 4,
 "nbformat_minor": 2
}
